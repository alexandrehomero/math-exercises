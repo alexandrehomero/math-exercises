{
  "nbformat": 4,
  "nbformat_minor": 0,
  "metadata": {
    "colab": {
      "provenance": [],
      "authorship_tag": "ABX9TyPG4vRlecVrOOBmlOQfHqb6",
      "include_colab_link": true
    },
    "kernelspec": {
      "name": "python3",
      "display_name": "Python 3"
    },
    "language_info": {
      "name": "python"
    }
  },
  "cells": [
    {
      "cell_type": "markdown",
      "metadata": {
        "id": "view-in-github",
        "colab_type": "text"
      },
      "source": [
        "<a href=\"https://colab.research.google.com/github/alexandrehomero/math-exercises/blob/main/Prova_uninter_metodos_quantitativos.ipynb\" target=\"_parent\"><img src=\"https://colab.research.google.com/assets/colab-badge.svg\" alt=\"Open In Colab\"/></a>"
      ]
    },
    {
      "cell_type": "code",
      "execution_count": null,
      "metadata": {
        "colab": {
          "base_uri": "https://localhost:8080/"
        },
        "id": "aGhr0QpHPOjy",
        "outputId": "81ab2d4b-93a4-4f2f-aa92-57642802de68"
      },
      "outputs": [
        {
          "output_type": "stream",
          "name": "stdout",
          "text": [
            "A equação da reta associada ao problema é: y = 14.933333333333334x + 681.3333333333333\n"
          ]
        }
      ],
      "source": [
        "\n",
        "x1, y1 = 20, 980\n",
        "x2, y2 = 35, 1204\n",
        "\n",
        "m = (y2 - y1) / (x2 - x1)\n",
        "\n",
        "b = y1 - m * x1\n",
        "\n",
        "print(f\"A equação da reta associada ao problema é: y = {m}x + {b} = \")"
      ]
    },
    {
      "cell_type": "markdown",
      "source": [
        "indice de Laspeyres\n"
      ],
      "metadata": {
        "id": "4etil4q6P6_z"
      }
    },
    {
      "cell_type": "code",
      "source": [
        "def indice_laspeyres_valor(preco_atual, preco_base, quantidade_base):\n",
        "    somatorio_base = 0\n",
        "    for i in range(len(preco_base)):\n",
        "        somatorio_base += preco_base[i] * quantidade_base[i]\n",
        "\n",
        "    valor_base = somatorio_base\n",
        "\n",
        "    numerador = 0\n",
        "    denominador = 0\n",
        "    for i in range(len(preco_atual)):\n",
        "        numerador += preco_atual[i] * quantidade_base[i]\n",
        "        denominador += preco_base[i] * quantidade_base[i]\n",
        "\n",
        "    valor_atual = numerador\n",
        "\n",
        "    indice = (valor_atual / valor_base) * 100\n",
        "\n",
        "    return indice\n",
        "\n",
        "\n",
        "preco_atual = [20880,23450,31500]\n",
        "preco_base = [19900, 21500, 29990]\n",
        "quantidade_base = [12453, 11204, 7651]\n",
        "indice = indice_laspeyres_valor(preco_atual, preco_base, quantidade_base)\n",
        "print(f\"O índice de Laspeyres é: {indice}\")"
      ],
      "metadata": {
        "colab": {
          "base_uri": "https://localhost:8080/"
        },
        "id": "lr06DNrbP9Wf",
        "outputId": "491cb7a4-375e-4c40-982b-847c89047db7"
      },
      "execution_count": null,
      "outputs": [
        {
          "output_type": "stream",
          "name": "stdout",
          "text": [
            "O índice de Laspeyres é: 106.35027277359477\n"
          ]
        }
      ]
    },
    {
      "cell_type": "code",
      "source": [
        "valor_atual = 1212\n",
        "valor_base = 1045\n",
        "\n",
        "relativo = (valor_atual / valor_base) * 100\n",
        "print(f\"O relativo referente ao salário mínimo de 2022 em relação a 2020 é: {relativo}%\")\n"
      ],
      "metadata": {
        "colab": {
          "base_uri": "https://localhost:8080/"
        },
        "id": "NEjuCABQP-uP",
        "outputId": "61db9661-ee0c-423e-9dd3-45ba4fccdcea"
      },
      "execution_count": null,
      "outputs": [
        {
          "output_type": "stream",
          "name": "stdout",
          "text": [
            "O relativo referente ao salário mínimo de 2022 em relação a 2020 é: 115.98086124401914%\n"
          ]
        }
      ]
    },
    {
      "cell_type": "code",
      "source": [
        "\n",
        "x1, y1 = 2, 7\n",
        "x2, y2 = 4, 6\n",
        "\n",
        "m = (y2 - y1) / (x2 - x1)\n",
        "\n",
        "b = y1 - m * x1\n",
        "\n",
        "print(f\"A equação da reta associada ao problema é: y = {m}x + {b} = \")"
      ],
      "metadata": {
        "colab": {
          "base_uri": "https://localhost:8080/"
        },
        "id": "dFelpOUqS4LK",
        "outputId": "deb99c1e-af85-4c0d-e243-bd9f2dba5935"
      },
      "execution_count": null,
      "outputs": [
        {
          "output_type": "stream",
          "name": "stdout",
          "text": [
            "A equação da reta associada ao problema é: y = -0.5x + 8.0 = \n"
          ]
        }
      ]
    },
    {
      "cell_type": "code",
      "source": [
        "valor_atual = 4000000\n",
        "taxa_crescimento = 0.10\n",
        "num_periodos = 5\n",
        "\n",
        "valor_futuro = valor_atual * (1 + taxa_crescimento) ** num_periodos\n",
        "print(f\"A previsão para o valor da empresa daqui a 5 anos é de: R$ {valor_futuro:.2f}\")"
      ],
      "metadata": {
        "colab": {
          "base_uri": "https://localhost:8080/"
        },
        "id": "l1xJ4mHKTF79",
        "outputId": "b9c32fe8-3106-4462-b913-0ed1e98c4faf"
      },
      "execution_count": null,
      "outputs": [
        {
          "output_type": "stream",
          "name": "stdout",
          "text": [
            "A previsão para o valor da empresa daqui a 5 anos é de: R$ 6442040.00\n"
          ]
        }
      ]
    },
    {
      "cell_type": "code",
      "source": [
        "def indice_sauerbeck_valor(preco_atual, preco_base, quantidade_base):\n",
        "    numerador = 0\n",
        "    denominador = 0\n",
        "    for i in range(len(preco_atual)):\n",
        "        numerador += preco_atual[i] * quantidade_base[i]\n",
        "        denominador += preco_base[i] * quantidade_base[i]\n",
        "\n",
        "    indice = (numerador / denominador) * 100\n",
        "\n",
        "    return indice\n",
        "\n",
        "preco_atual = [20880,23450,31500]\n",
        "preco_base = [19900, 21500, 29990]\n",
        "quantidade_base = [12453, 11204, 7651]\n",
        "indice = indice_sauerbeck_valor(preco_atual, preco_base, quantidade_base)\n",
        "print(f\"O índice de Sauerbeck é: {indice}\")"
      ],
      "metadata": {
        "colab": {
          "base_uri": "https://localhost:8080/"
        },
        "id": "dq_YEokdTX_u",
        "outputId": "a875d72f-92b7-4507-84b4-7c324d65ec01"
      },
      "execution_count": null,
      "outputs": [
        {
          "output_type": "stream",
          "name": "stdout",
          "text": [
            "O índice de Sauerbeck é: 106.35027277359477\n"
          ]
        }
      ]
    },
    {
      "cell_type": "code",
      "source": [],
      "metadata": {
        "id": "Dw-wunnLpBfl"
      },
      "execution_count": null,
      "outputs": []
    },
    {
      "cell_type": "code",
      "source": [
        "def indice_bradstreet(preco_atual, preco_base):\n",
        "    soma_atual = sum(preco_atual)\n",
        "    soma_base = sum(preco_base)\n",
        "\n",
        "    indice = soma_atual / soma_base\n",
        "\n",
        "    return indice\n",
        "preco_atual = [20880,23450,31500]\n",
        "preco_base = [19900, 21500, 29990]\n",
        "indice = indice_bradstreet(preco_atual, preco_base)\n",
        "print(f\"O índice de preço de Bradstreet-Dutot é: {indice}\")"
      ],
      "metadata": {
        "colab": {
          "base_uri": "https://localhost:8080/"
        },
        "id": "uhKyE_UVTY1a",
        "outputId": "d10e553e-321c-45d7-831a-3d2efd8c036e"
      },
      "execution_count": null,
      "outputs": [
        {
          "output_type": "stream",
          "name": "stdout",
          "text": [
            "O índice de preço de Bradstreet-Dutot é: 1.0621935845356492\n"
          ]
        }
      ]
    },
    {
      "cell_type": "code",
      "source": [],
      "metadata": {
        "id": "2cS_eUyk60jv"
      },
      "execution_count": null,
      "outputs": []
    },
    {
      "cell_type": "code",
      "source": [
        "custo_por_telha = 21.00\n",
        "preco_de_venda_por_telha = 34.00\n",
        "unidades_vendidas = 7000\n",
        "custos_fixos_mensais = 80000.00\n",
        "\n",
        "custos_variaveis = custo_por_telha * unidades_vendidas\n",
        "receita_total = preco_de_venda_por_telha * unidades_vendidas\n",
        "custos_totais = custos_variaveis + custos_fixos_mensais\n",
        "\n",
        "lucro = receita_total - custos_totais\n",
        "\n",
        "print(f\"O lucro referente à venda mensal de 7.000 chapas é: R$ {lucro:.2f}\")"
      ],
      "metadata": {
        "id": "joFblL50WBNg",
        "outputId": "bd017b54-7a3e-4d21-e50a-e1764ef1c167",
        "colab": {
          "base_uri": "https://localhost:8080/"
        }
      },
      "execution_count": null,
      "outputs": [
        {
          "output_type": "stream",
          "name": "stdout",
          "text": [
            "O lucro referente à venda mensal de 7.000 chapas é: R$ 11000.00\n"
          ]
        }
      ]
    },
    {
      "cell_type": "code",
      "source": [
        "from sklearn.linear_model import LinearRegression\n",
        "import numpy as np\n",
        "# Dados fictícios de exemplo (substitua com seus próprios dados)\n",
        "meses = np.arange(1, 7)\n",
        "dados = np.array([122000,124453.10,128043.12,130350.02,133409.77,137002.11])\n",
        "\n",
        "# Ajuste de regressão linear aos dados\n",
        "regressor = LinearRegression()\n",
        "regressor.fit(meses.reshape(-1, 1), dados)\n",
        "\n",
        "# Predição dos valores para os 6 meses seguintes\n",
        "meses_predicao = np.arange(13, 19)\n",
        "dados_predicao = regressor.predict(meses_predicao.reshape(-1, 1))\n",
        "\n",
        "# Coeficiente de determinação (R²)\n",
        "r2 = regressor.score(meses.reshape(-1, 1), dados)\n",
        "\n",
        "print(f\"Coeficiente de determinação (R²): {r2}\")\n",
        "print(f\"Valores previstos para os próximos 6 meses: {dados_predicao}\")"
      ],
      "metadata": {
        "colab": {
          "base_uri": "https://localhost:8080/"
        },
        "id": "QkE5aVYS30Up",
        "outputId": "f150ee60-b212-4bfd-a17b-fef148f7ca14"
      },
      "execution_count": null,
      "outputs": [
        {
          "output_type": "stream",
          "name": "stdout",
          "text": [
            "Coeficiente de determinação (R²): 0.9964229807765299\n",
            "Valores previstos para os próximos 6 meses: [157489.14009524 160465.92466667 163442.7092381  166419.49380952\n",
            " 169396.27838095 172373.06295238]\n"
          ]
        }
      ]
    },
    {
      "cell_type": "code",
      "source": [
        "def calcular_indice_paasche_valor(preco_periodo_atual, quantidade_periodo_atual, preco_periodo_base):\n",
        "    soma_produtos = 0\n",
        "    soma_base = 0\n",
        "\n",
        "    for i in range(len(preco_periodo_atual)):\n",
        "        soma_produtos += preco_periodo_atual[i] * quantidade_periodo_atual[i]\n",
        "        soma_base += preco_periodo_base[i] * quantidade_periodo_atual[i]\n",
        "\n",
        "    indice_paasche_valor = soma_produtos / soma_base\n",
        "    return indice_paasche_valor\n",
        "\n",
        "# Dados de exemplo\n",
        "preco_periodo_base = [19900.00, 21500.00, 29990.00]\n",
        "quantidade_periodo_atual = [13480, 10912, 9458]\n",
        "preco_periodo_atual = [20880.00, 23450.00, 31500.00]\n",
        "\n",
        "# Cálculo do índice de Paasche de valor\n",
        "indice_paasche_valor = calcular_indice_paasche_valor(preco_periodo_atual, quantidade_periodo_atual, preco_periodo_base)\n",
        "\n",
        "print(f\"O índice de Paasche de valor é: {indice_paasche_valor*100}\")"
      ],
      "metadata": {
        "colab": {
          "base_uri": "https://localhost:8080/"
        },
        "id": "ahBHv_-84y7Z",
        "outputId": "a70246e8-517f-4317-8ac6-deceba57ddd9"
      },
      "execution_count": null,
      "outputs": [
        {
          "output_type": "stream",
          "name": "stdout",
          "text": [
            "O índice de Paasche de valor é: 106.20089560221975\n"
          ]
        }
      ]
    },
    {
      "cell_type": "code",
      "source": [
        "import numpy as np\n",
        "import matplotlib.pyplot as plt\n",
        "\n",
        "# Dados de exemplo (substitua com seus próprios dados)\n",
        "x = np.array([2, 4, 5, 8])\n",
        "y = np.array([7, 6, 10, 12])\n",
        "\n",
        "# Ajuste de regressão linear\n",
        "coefficients = np.polyfit(x, y, 1)\n",
        "slope = coefficients[0]\n",
        "intercept = coefficients[1]\n",
        "\n",
        "# Plotagem dos pontos e da reta de regressão\n",
        "equacao_reta = f\"y = {slope:.2f}x + {intercept:.2f}\"\n",
        "print(f\"Equação da reta: {equacao_reta}\")\n",
        "plt.scatter(x, y, color='blue', label='Pontos')\n",
        "plt.plot(x, slope*x + intercept, color='red', label='Regressão Linear')\n",
        "plt.xlabel('x')\n",
        "plt.ylabel('y')\n",
        "plt.legend()\n",
        "plt.show()"
      ],
      "metadata": {
        "colab": {
          "base_uri": "https://localhost:8080/",
          "height": 466
        },
        "id": "oFtkx1re5aZ0",
        "outputId": "c0a820ef-a3e3-4528-ab33-f136cf9b05e3"
      },
      "execution_count": null,
      "outputs": [
        {
          "output_type": "stream",
          "name": "stdout",
          "text": [
            "Equação da reta: y = 0.95x + 4.25\n"
          ]
        },
        {
          "output_type": "display_data",
          "data": {
            "text/plain": [
              "<Figure size 640x480 with 1 Axes>"
            ],
            "image/png": "[encoded data removed]"
          },
          "metadata": {}
        }
      ]
    },
    {
      "cell_type": "markdown",
      "source": [
        "Gerar polinomio do segundo grau"
      ],
      "metadata": {
        "id": "14MvYKeC62RZ"
      }
    },
    {
      "cell_type": "code",
      "source": [
        "import numpy as np\n",
        "import matplotlib.pyplot as plt\n",
        "\n",
        "# Dados de exemplo (substitua com seus próprios dados)\n",
        "x = np.array([1, 2, 3, 4, 5, 6])\n",
        "y = np.array([122000,124453.10,128043.12,130350.02,133409.77,137002.11])\n",
        "\n",
        "# Ajuste de polinômio de segundo grau\n",
        "coefficients = np.polyfit(x, y, 2)\n",
        "a = coefficients[0]\n",
        "b = coefficients[1]\n",
        "c = coefficients[2]\n",
        "\n",
        "# Geração da equação do polinômio\n",
        "equacao_polinomio = f\"{a:.2f}x^2 + {b:.2f}x + {c:.2f}\"\n",
        "print(f\"Equação do polinômio: {equacao_polinomio}\")\n",
        "\n",
        "# Plotagem dos pontos e do polinômio ajustado\n",
        "x_plot = np.linspace(min(x), max(x), 100)\n",
        "y_plot = a * x_plot**2 + b * x_plot + c\n",
        "plt.scatter(x, y, color='blue', label='Pontos')\n",
        "plt.plot(x_plot, y_plot, color='red', label='Polinômio de 2º grau')\n",
        "plt.xlabel('x')\n",
        "plt.ylabel('y')\n",
        "plt.legend()\n",
        "plt.show()"
      ],
      "metadata": {
        "colab": {
          "base_uri": "https://localhost:8080/",
          "height": 466
        },
        "id": "wBruHT7J61sh",
        "outputId": "e58f513c-f46b-439b-a70a-50b725bf6083"
      },
      "execution_count": null,
      "outputs": [
        {
          "output_type": "stream",
          "name": "stdout",
          "text": [
            "Equação do polinômio: 63.84x^2 + 2529.89x + 119386.79\n"
          ]
        },
        {
          "output_type": "display_data",
          "data": {
            "text/plain": [
              "<Figure size 640x480 with 1 Axes>"
            ],
            "image/png": "[encoded data removed]"
          },
          "metadata": {}
        }
      ]
    },
    {
      "cell_type": "code",
      "source": [
        "import numpy as np\n",
        "import matplotlib.pyplot as plt\n",
        "\n",
        "# Dados de exemplo (substitua com seus próprios dados)\n",
        "x = np.array([1,2,3,4,5])\n",
        "y = np.array([10,12,11,14,15])\n",
        "\n",
        "# Ajuste de regressão linear\n",
        "coefficients = np.polyfit(x, y, 1)\n",
        "slope = coefficients[0]\n",
        "intercept = coefficients[1]\n",
        "\n",
        "# Plotagem dos pontos e da reta de regressão\n",
        "equacao_reta = f\"y = {slope:.2f}x + {intercept:.2f}\"\n",
        "print(f\"Equação da reta: {equacao_reta}\")\n",
        "plt.scatter(x, y, color='blue', label='Pontos')\n",
        "plt.plot(x, slope*x + intercept, color='red', label='Regressão Linear')\n",
        "plt.xlabel('x')\n",
        "plt.ylabel('y')\n",
        "plt.legend()\n",
        "plt.show()"
      ],
      "metadata": {
        "colab": {
          "base_uri": "https://localhost:8080/",
          "height": 466
        },
        "id": "8mttPOE_7JEO",
        "outputId": "23151f9c-1a1e-49d6-c321-c3a98886ac9d"
      },
      "execution_count": null,
      "outputs": [
        {
          "output_type": "stream",
          "name": "stdout",
          "text": [
            "Equação da reta: y = 1.20x + 8.80\n"
          ]
        },
        {
          "output_type": "display_data",
          "data": {
            "text/plain": [
              "<Figure size 640x480 with 1 Axes>"
            ],
            "image/png": "[encoded data removed]"
          },
          "metadata": {}
        }
      ]
    },
    {
      "cell_type": "code",
      "source": [
        "def calcular_indice_laspeyres_quantidades(quantidade_periodo_atual, quantidade_periodo_base):\n",
        "    soma_produtos = sum(quantidade_periodo_atual)\n",
        "    soma_base = sum(quantidade_periodo_base)\n",
        "\n",
        "    indice_laspeyres_quantidades = soma_produtos / soma_base\n",
        "    return indice_laspeyres_quantidades\n",
        "\n",
        "preco_atual = [20880,23450,31500]\n",
        "quantidade_base = [12453, 11204, 7651]\n",
        "quantidade_atual = [13480, 10912, 9458]\n",
        "# Cálculo do índice de Paasche\n",
        "indice = calcular_indice_laspeyres_quantidades(quantidade_atual, quantidade_base)\n",
        "\n",
        "print(f\"O índice de Paasche é: {indice}\")"
      ],
      "metadata": {
        "colab": {
          "base_uri": "https://localhost:8080/"
        },
        "id": "Rid6P_nk8GQP",
        "outputId": "009d2351-771c-4eb0-c60c-71b057735a95"
      },
      "execution_count": null,
      "outputs": [
        {
          "output_type": "stream",
          "name": "stdout",
          "text": [
            "O índice de Paasche é: 1.0811933052255014\n"
          ]
        }
      ]
    },
    {
      "cell_type": "code",
      "source": [
        "def custo_remocao_poluentes(x):\n",
        "    return (22000) + (18000 * x) / (100 - x)\n",
        "\n",
        "# Valor de x tendendo a 95%\n",
        "x = 95\n",
        "\n",
        "# Cálculo do custo de remoção dos poluentes\n",
        "custo = custo_remocao_poluentes(x)\n",
        "\n",
        "print(f\"O custo de remoção dos poluentes quando x tende a 95% é: {custo}\")"
      ],
      "metadata": {
        "colab": {
          "base_uri": "https://localhost:8080/"
        },
        "id": "T88ZeDh0-xck",
        "outputId": "0b99478b-8b6f-4c30-bc45-95ecb076bf5f"
      },
      "execution_count": null,
      "outputs": [
        {
          "output_type": "stream",
          "name": "stdout",
          "text": [
            "O custo de remoção dos poluentes quando x tende a 95% é: 364000.0\n"
          ]
        }
      ]
    },
    {
      "cell_type": "code",
      "source": [
        "import sympy as sp\n",
        "\n",
        "# Variável simbólica\n",
        "x = sp.symbols('x')\n",
        "\n",
        "# Função Cm(x)\n",
        "Cm = 34*x + 9000/x\n",
        "\n",
        "# Limite de Cm(x) quando x tende ao infinito\n",
        "limite = sp.limit(Cm, x, sp.oo)\n",
        "\n",
        "print(f\"O valor do custo médio quando a produção mensal aumenta infinitamente é: {limite}\")\n"
      ],
      "metadata": {
        "colab": {
          "base_uri": "https://localhost:8080/"
        },
        "id": "G95N78qcA7Gu",
        "outputId": "0fa58de7-a6ad-4c92-a35e-8d05ab6b5e19"
      },
      "execution_count": null,
      "outputs": [
        {
          "output_type": "stream",
          "name": "stdout",
          "text": [
            "O valor do custo médio quando a produção mensal aumenta infinitamente é: oo\n"
          ]
        }
      ]
    },
    {
      "cell_type": "code",
      "source": [
        "\n",
        "# Pontos A(2, 7), B(4, 6), C(5, 10) e D(8, 12)\n",
        "x = np.array([2, 4, 5, 8])\n",
        "y = np.array([7, 6, 10, 12])\n",
        "\n",
        "# Cálculo do coeficiente de correlação de Pearson\n",
        "correlation_coefficient = np.corrcoef(x, y)[0, 1]\n",
        "\n",
        "print(f\"O coeficiente de correlação de Pearson é: {correlation_coefficient}\")"
      ],
      "metadata": {
        "colab": {
          "base_uri": "https://localhost:8080/"
        },
        "id": "u-aIk1eSBlFA",
        "outputId": "71cc27ba-0870-4ecb-a624-26817439bbd9"
      },
      "execution_count": null,
      "outputs": [
        {
          "output_type": "stream",
          "name": "stdout",
          "text": [
            "O coeficiente de correlação de Pearson é: 0.8594230963896993\n"
          ]
        }
      ]
    },
    {
      "cell_type": "code",
      "source": [
        "salario_base = 954.00  # Salário mínimo de 2018\n",
        "salario_atual = 1100.00  # Salário mínimo de 2021\n",
        "\n",
        "relativo = ((salario_atual - salario_base) / salario_base) * 100\n",
        "\n",
        "print(f\"O relativo referente ao salário mínimo de 2021 considerando 2018 como data base é: {relativo}%\")"
      ],
      "metadata": {
        "colab": {
          "base_uri": "https://localhost:8080/"
        },
        "id": "MAqPU91RCYdN",
        "outputId": "4182611e-ce1d-46ab-96cd-1cca8db0f915"
      },
      "execution_count": null,
      "outputs": [
        {
          "output_type": "stream",
          "name": "stdout",
          "text": [
            "O relativo referente ao salário mínimo de 2021 considerando 2018 como data base é: 15.30398322851153%\n"
          ]
        }
      ]
    },
    {
      "cell_type": "code",
      "source": [
        "import numpy as np\n",
        "\n",
        "\n",
        "producao = [5400, 5410, 5780, 6000, 6240, 6340]\n",
        "custo = [12240,12670,15200,16550,17330,18010]\n",
        "\n",
        "coeficiente_correlacao = np.corrcoef(producao, custo)[0, 1]\n",
        "\n",
        "print(f\"O coeficiente de correlação de Pearson é: {coeficiente_correlacao}\")"
      ],
      "metadata": {
        "colab": {
          "base_uri": "https://localhost:8080/"
        },
        "id": "eYSV2ptepDPQ",
        "outputId": "19e7c0d6-1348-4d0a-ef36-823697c91d67"
      },
      "execution_count": 1,
      "outputs": [
        {
          "output_type": "stream",
          "name": "stdout",
          "text": [
            "O coeficiente de correlação de Pearson é: 0.9915506821095087\n"
          ]
        }
      ]
    },
    {
      "cell_type": "code",
      "source": [
        "import numpy as np\n",
        "\n",
        "# Pontos C, D e E\n",
        "x = np.array([0, 10.76, 5.4])\n",
        "y = np.array([0, 0, 1.82])\n",
        "\n",
        "# Função para calcular o polinômio interpolador\n",
        "def polinomio_interpolador(x, y):\n",
        "    n = len(x)\n",
        "    polinomio = np.zeros(n)\n",
        "\n",
        "    for i in range(n):\n",
        "        # Calcular o polinômio de Lagrange para o ponto i\n",
        "        p = np.poly1d([1.0])\n",
        "        for j in range(n):\n",
        "            if i != j:\n",
        "                p *= np.poly1d([1.0, -x[j]]) / (x[i] - x[j])\n",
        "        polinomio += y[i] * p\n",
        "\n",
        "    return polinomio\n",
        "\n",
        "# Calcular o polinômio interpolador\n",
        "polinomio = polinomio_interpolador(x, y)\n",
        "\n",
        "# Imprimir o resultado\n",
        "print(\"O polinômio interpolador é:\")\n",
        "print(polinomio)"
      ],
      "metadata": {
        "colab": {
          "base_uri": "https://localhost:8080/"
        },
        "id": "9KHzco_fqGnA",
        "outputId": "905e751f-8d20-431b-b978-100862300442"
      },
      "execution_count": 2,
      "outputs": [
        {
          "output_type": "stream",
          "name": "stdout",
          "text": [
            "O polinômio interpolador é:\n",
            "[-0.06288004  0.67658928  0.        ]\n"
          ]
        }
      ]
    },
    {
      "cell_type": "code",
      "source": [
        "from sklearn.linear_model import LinearRegression\n",
        "import numpy as np\n",
        "# Dados fictícios de exemplo (substitua com seus próprios dados)\n",
        "meses = np.arange(1, 7)\n",
        "dados = np.array([122000,124453.10,128043.12,130350.02,133409.77,137002.11])\n",
        "\n",
        "# Ajuste de regressão linear aos dados\n",
        "regressor = LinearRegression()\n",
        "regressor.fit(meses.reshape(-1, 1), dados)\n",
        "\n",
        "# Predição dos valores para os 6 meses seguintes\n",
        "meses_predicao = np.arange(13, 19)\n",
        "dados_predicao = regressor.predict(meses_predicao.reshape(-1, 1))\n",
        "\n",
        "# Coeficiente de determinação (R²)\n",
        "r2 = regressor.score(meses.reshape(-1, 1), dados)\n",
        "\n",
        "print(f\"Coeficiente de determinação (R²): {r2}\")\n",
        "print(f\"Valores previstos para os próximos 6 meses: {dados_predicao}\")"
      ],
      "metadata": {
        "id": "-ozrfpVDqYvg"
      },
      "execution_count": null,
      "outputs": []
    },
    {
      "cell_type": "code",
      "source": [
        "import numpy as np\n",
        "\n",
        "# Saldos mensais da conta poupança nos seis primeiros meses do ano\n",
        "meses = ['Janeiro', 'Fevereiro', 'Março', 'Abril', 'Maio', 'Junho']\n",
        "saldos = [22000, 24453.10, 28043.12, 30350.02, 33409.77, 37002.11]\n",
        "\n",
        "# Calcular a média dos saldos\n",
        "media_saldos = np.mean(saldos)\n",
        "\n",
        "# Calcular a soma dos quadrados dos desvios da média\n",
        "ss_total = np.sum((saldos - media_saldos) ** 2)\n",
        "\n",
        "# Calcular a soma dos resíduos dos quadrados\n",
        "ss_residual = np.sum((saldos - np.polyval(np.polyfit(range(len(saldos)), saldos, 1), range(len(saldos)))) ** 2)\n",
        "\n",
        "# Calcular o coeficiente de determinação\n",
        "coef_determinacao = 1 - (ss_residual / ss_total)\n",
        "\n",
        "# Imprimir o resultado\n",
        "print(f\"O coeficiente de determinação é: {coef_determinacao}\")"
      ],
      "metadata": {
        "colab": {
          "base_uri": "https://localhost:8080/"
        },
        "id": "ujVilqd2qn7W",
        "outputId": "e9749af2-3133-4ffd-fa6d-e39678c3752b"
      },
      "execution_count": 8,
      "outputs": [
        {
          "output_type": "stream",
          "name": "stdout",
          "text": [
            "O coeficiente de determinação é: 0.9964229807765299\n"
          ]
        }
      ]
    },
    {
      "cell_type": "code",
      "source": [
        "\n",
        "\n",
        "from sklearn.linear_model import LinearRegression\n",
        "import numpy as np\n",
        "# Dados fictícios de exemplo (substitua com seus próprios dados)\n",
        "meses = np.arange(1, 7)\n",
        "dados = [22000, 24453.10, 28043.12, 30350.02, 33409.77, 37002.11]\n",
        "\n",
        "# Ajuste de regressão linear aos dados\n",
        "regressor = LinearRegression()\n",
        "regressor.fit(meses.reshape(-1, 1), dados)\n",
        "\n",
        "# Predição dos valores para os 6 meses seguintes\n",
        "meses_predicao = np.arange(13, 19)\n",
        "dados_predicao = regressor.predict(meses_predicao.reshape(-1, 1))\n",
        "\n",
        "# Coeficiente de determinação (R²)\n",
        "r2 = regressor.score(meses.reshape(-1, 1), dados)\n",
        "\n",
        "print(f\"Coeficiente de determinação (R²): {r2}\")\n",
        "print(f\"Valores previstos para os próximos 6 meses: {dados_predicao}\")"
      ],
      "metadata": {
        "colab": {
          "base_uri": "https://localhost:8080/"
        },
        "id": "TMtCTT6StCdV",
        "outputId": "76d8f321-5945-4879-a1e2-16d05702ea61"
      },
      "execution_count": 15,
      "outputs": [
        {
          "output_type": "stream",
          "name": "stdout",
          "text": [
            "Coeficiente de determinação (R²): 0.9964229807765299\n",
            "Valores previstos para os próximos 6 meses: [57489.14009524 60465.92466667 63442.7092381  66419.49380952\n",
            " 69396.27838095 72373.06295238]\n"
          ]
        }
      ]
    },
    {
      "cell_type": "code",
      "source": [
        "import numpy as np\n",
        "\n",
        "# Pontos C, D e E\n",
        "x = np.array([13, 15, 17,20])\n",
        "y = np.array([21,29,22,20])\n",
        "\n",
        "# Função para calcular o polinômio interpolador\n",
        "def polinomio_interpolador(x, y):\n",
        "    n = len(x)\n",
        "    polinomio = np.zeros(n)\n",
        "\n",
        "    for i in range(n):\n",
        "        # Calcular o polinômio de Lagrange para o ponto i\n",
        "        p = np.poly1d([1.0])\n",
        "        for j in range(n):\n",
        "            if i != j:\n",
        "                p *= np.poly1d([1.0, -x[j]]) / (x[i] - x[j])\n",
        "        polinomio += y[i] * p\n",
        "\n",
        "    return polinomio\n",
        "\n",
        "# Calcular o polinômio interpolador\n",
        "polinomio = polinomio_interpolador(x, y)\n",
        "\n",
        "# Imprimir o resultado\n",
        "print(\"O polinômio interpolador é:\")\n",
        "print(polinomio)\n"
      ],
      "metadata": {
        "colab": {
          "base_uri": "https://localhost:8080/"
        },
        "id": "7DvL35ActDL1",
        "outputId": "debc5e90-13f3-481a-ce93-9cc6b702f213"
      },
      "execution_count": 13,
      "outputs": [
        {
          "output_type": "stream",
          "name": "stdout",
          "text": [
            "O polinômio interpolador é:\n",
            "[ 3.48809524e-01 -1.75714286e+01  2.90551190e+02 -1.55292857e+03]\n"
          ]
        }
      ]
    },
    {
      "cell_type": "code",
      "source": [
        "import numpy as np\n",
        "import matplotlib.pyplot as plt\n",
        "\n",
        "# Dados de exemplo (substitua com seus próprios dados)\n",
        "x = np.array([1,2,3,4,5])\n",
        "y = np.array([210,195,222,231,228])\n",
        "\n",
        "# Ajuste de regressão linear\n",
        "coefficients = np.polyfit(x, y, 1)\n",
        "slope = coefficients[0]\n",
        "intercept = coefficients[1]\n",
        "\n",
        "# Plotagem dos pontos e da reta de regressão\n",
        "equacao_reta = f\"y = {slope:.2f}x + {intercept:.2f}\"\n",
        "print(f\"Equação da reta: {equacao_reta}\")\n",
        "plt.scatter(x, y, color='blue', label='Pontos')\n",
        "plt.plot(x, slope*x + intercept, color='red', label='Regressão Linear')\n",
        "plt.xlabel('x')\n",
        "plt.ylabel('y')\n",
        "plt.legend()\n",
        "plt.show()"
      ],
      "metadata": {
        "colab": {
          "base_uri": "https://localhost:8080/",
          "height": 466
        },
        "id": "modkqd15uPBK",
        "outputId": "70538e13-c6dd-4700-d6e7-714554d71a53"
      },
      "execution_count": 14,
      "outputs": [
        {
          "output_type": "stream",
          "name": "stdout",
          "text": [
            "Equação da reta: y = 7.20x + 195.60\n"
          ]
        },
        {
          "output_type": "display_data",
          "data": {
            "text/plain": [
              "<Figure size 640x480 with 1 Axes>"
            ],
            "image/png": "[encoded data removed]"
          },
          "metadata": {}
        }
      ]
    },
    {
      "cell_type": "code",
      "source": [
        "import numpy as np\n",
        "import matplotlib.pyplot as plt\n",
        "\n",
        "# Dados de exemplo (substitua com seus próprios dados)\n",
        "x = np.array([1,2,3,4,5,6,7,8,9])\n",
        "y = np.array([5.71,5.53,5.18,5.13,4.71,5.10,5.11,5.40,5.09])\n",
        "\n",
        "# Ajuste de regressão linear\n",
        "coefficients = np.polyfit(x, y, 1)\n",
        "slope = coefficients[0]\n",
        "intercept = coefficients[1]\n",
        "\n",
        "# Plotagem dos pontos e da reta de regressão\n",
        "equacao_reta = f\"y = {slope:.2f}x + {intercept:.2f}\"\n",
        "print(f\"Equação da reta: {equacao_reta}\")\n",
        "plt.scatter(x, y, color='blue', label='Pontos')\n",
        "plt.plot(x, slope*x + intercept, color='red', label='Regressão Linear')\n",
        "plt.xlabel('x')\n",
        "plt.ylabel('y')\n",
        "plt.legend()\n",
        "plt.show()"
      ],
      "metadata": {
        "colab": {
          "base_uri": "https://localhost:8080/",
          "height": 466
        },
        "id": "41M393zvuyId",
        "outputId": "b28946f6-7723-4036-84f1-65b23273fd74"
      },
      "execution_count": 16,
      "outputs": [
        {
          "output_type": "stream",
          "name": "stdout",
          "text": [
            "Equação da reta: y = -0.05x + 5.47\n"
          ]
        },
        {
          "output_type": "display_data",
          "data": {
            "text/plain": [
              "<Figure size 640x480 with 1 Axes>"
            ],
            "image/png": "[encoded data removed]"
          },
          "metadata": {}
        }
      ]
    },
    {
      "cell_type": "code",
      "source": [
        "import numpy as np\n",
        "\n",
        "# Listas de produção e custo\n",
        "producao = [1,2,3,4,5]\n",
        "custo = [210,195,222,231,228]\n",
        "\n",
        "# Calcular o coeficiente de correlação de Pearson\n",
        "coeficiente_correlacao = np.corrcoef(producao, custo)[0, 1]\n",
        "\n",
        "# Imprimir o resultado\n",
        "print(f\"O coeficiente de correlação de Pearson é: {coeficiente_correlacao}\")"
      ],
      "metadata": {
        "colab": {
          "base_uri": "https://localhost:8080/"
        },
        "id": "xluRjYA8vBQs",
        "outputId": "1569aa76-c873-45d7-a0d2-97e19eb7ddff"
      },
      "execution_count": 18,
      "outputs": [
        {
          "output_type": "stream",
          "name": "stdout",
          "text": [
            "O coeficiente de correlação de Pearson é: 0.7698003589195009\n"
          ]
        }
      ]
    },
    {
      "cell_type": "code",
      "source": [
        "import numpy as np\n",
        "import matplotlib.pyplot as plt\n",
        "\n",
        "# Dados de exemplo (substitua com seus próprios dados)\n",
        "x = np.array([1,2,3,4,5])\n",
        "y = np.array([1290,1145,1119,1131,1082])\n",
        "\n",
        "# Ajuste de regressão linear\n",
        "coefficients = np.polyfit(x, y, 1)\n",
        "slope = coefficients[0]\n",
        "intercept = coefficients[1]\n",
        "\n",
        "# Plotagem dos pontos e da reta de regressão\n",
        "equacao_reta = f\"y = {slope:.2f}x + {intercept:.2f}\"\n",
        "print(f\"Equação da reta: {equacao_reta}\")\n",
        "plt.scatter(x, y, color='blue', label='Pontos')\n",
        "plt.plot(x, slope*x + intercept, color='red', label='Regressão Linear')\n",
        "plt.xlabel('x')\n",
        "plt.ylabel('y')\n",
        "plt.legend()\n",
        "plt.show()"
      ],
      "metadata": {
        "colab": {
          "base_uri": "https://localhost:8080/",
          "height": 470
        },
        "id": "lfpWL1ddvcdL",
        "outputId": "44de5e2b-f136-47da-8735-1347f64334ed"
      },
      "execution_count": 19,
      "outputs": [
        {
          "output_type": "stream",
          "name": "stdout",
          "text": [
            "Equação da reta: y = -43.00x + 1282.40\n"
          ]
        },
        {
          "output_type": "display_data",
          "data": {
            "text/plain": [
              "<Figure size 640x480 with 1 Axes>"
            ],
            "image/png": "[encoded data removed]"
          },
          "metadata": {}
        }
      ]
    },
    {
      "cell_type": "code",
      "source": [
        "import numpy as np\n",
        "\n",
        "# Listas de produção e custo\n",
        "\n",
        "x = np.array([1,2,3,4,5,6,7,8,9])\n",
        "y = np.array([5.71,5.53,5.18,5.13,4.71,5.10,5.11,5.40,5.09])\n",
        "# Calcular o coeficiente de correlação de Pearson\n",
        "coeficiente_correlacao = np.corrcoef(x, y)[0, 1]\n",
        "\n",
        "# Imprimir o resultado\n",
        "print(f\"O coeficiente de correlação de Pearson é: {coeficiente_correlacao}\")"
      ],
      "metadata": {
        "colab": {
          "base_uri": "https://localhost:8080/"
        },
        "id": "TXyUbuzSvqij",
        "outputId": "8cd3ff47-e1e9-45b8-bf89-294a083d1d6c"
      },
      "execution_count": 20,
      "outputs": [
        {
          "output_type": "stream",
          "name": "stdout",
          "text": [
            "O coeficiente de correlação de Pearson é: -0.4753172935502125\n"
          ]
        }
      ]
    },
    {
      "cell_type": "code",
      "source": [
        "import numpy as np\n",
        "import matplotlib.pyplot as plt\n",
        "x= np.array([5400, 5410, 5780, 6000, 6240, 6340])\n",
        "y = np.array([12240,12670,15200,16550,17330,18010])\n",
        "\n",
        "# Ajuste de regressão linear\n",
        "coefficients = np.polyfit(x, y, 1)\n",
        "slope = coefficients[0]\n",
        "intercept = coefficients[1]\n",
        "\n",
        "# Plotagem dos pontos e da reta de regressão\n",
        "equacao_reta = f\"y = {slope:.2f}x + {intercept:.2f}\"\n",
        "print(f\"Equação da reta: {equacao_reta}\")\n",
        "plt.scatter(x, y, color='blue', label='Pontos')\n",
        "plt.plot(x, slope*x + intercept, color='red', label='Regressão Linear')\n",
        "plt.xlabel('x')\n",
        "plt.ylabel('y')\n",
        "plt.legend()"
      ],
      "metadata": {
        "colab": {
          "base_uri": "https://localhost:8080/",
          "height": 484
        },
        "id": "UAj0GTGYv6zW",
        "outputId": "8850975f-12d6-45ee-c217-5937cc70b540"
      },
      "execution_count": 24,
      "outputs": [
        {
          "output_type": "stream",
          "name": "stdout",
          "text": [
            "Equação da reta: y = 5.95x + -19524.96\n"
          ]
        },
        {
          "output_type": "execute_result",
          "data": {
            "text/plain": [
              "<matplotlib.legend.Legend at 0x7f0ad9732c50>"
            ]
          },
          "metadata": {},
          "execution_count": 24
        },
        {
          "output_type": "display_data",
          "data": {
            "text/plain": [
              "<Figure size 640x480 with 1 Axes>"
            ],
            "image/png": "[encoded data removed]"
          },
          "metadata": {}
        }
      ]
    }
  ]
}